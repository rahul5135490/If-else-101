{
 "cells": [
  {
   "cell_type": "code",
   "execution_count": 1,
   "id": "5f7124a1",
   "metadata": {},
   "outputs": [
    {
     "name": "stdout",
     "output_type": "stream",
     "text": [
      "x is less than or equal to 10\n"
     ]
    }
   ],
   "source": [
    "x=10\n",
    "if x>10:\n",
    "    print(\"x is greater than 10\")\n",
    "else:\n",
    "    print(\"x is less than or equal to 10\")"
   ]
  },
  {
   "cell_type": "code",
   "execution_count": 2,
   "id": "81faf267",
   "metadata": {},
   "outputs": [
    {
     "name": "stdout",
     "output_type": "stream",
     "text": [
      "Enter the age12\n",
      "You are not eligible for vote\n"
     ]
    }
   ],
   "source": [
    "age=input(\"Enter the age\")\n",
    "if x>=18:\n",
    "    print(\"You are eligible for the vote\")\n",
    "else:\n",
    "    print(\"You are not eligible for vote\")"
   ]
  },
  {
   "cell_type": "code",
   "execution_count": 3,
   "id": "fb693025",
   "metadata": {},
   "outputs": [
    {
     "name": "stdout",
     "output_type": "stream",
     "text": [
      "x is not greater than 20 and y is not less than 30\n"
     ]
    }
   ],
   "source": [
    "x=20\n",
    "y=30\n",
    "if(x>20 and y<30):\n",
    "    print(\"x is greater than 20 and y is less than 30\")\n",
    "else:\n",
    "    print(\"x is not greater than 20 and y is not less than 30\")"
   ]
  },
  {
   "cell_type": "code",
   "execution_count": 4,
   "id": "1b6264c6",
   "metadata": {},
   "outputs": [
    {
     "name": "stdout",
     "output_type": "stream",
     "text": [
      "True\n"
     ]
    }
   ],
   "source": [
    "x=[1,2,3,4]\n",
    "print(\"True\") if (2 in x) else print(\"False\")"
   ]
  },
  {
   "cell_type": "code",
   "execution_count": 5,
   "id": "42e05bab",
   "metadata": {},
   "outputs": [
    {
     "name": "stdout",
     "output_type": "stream",
     "text": [
      "False\n"
     ]
    }
   ],
   "source": [
    "x=[1,2,3,4]\n",
    "print(\"True\") if (12 in x) else print(\"False\")"
   ]
  },
  {
   "cell_type": "code",
   "execution_count": 6,
   "id": "e16b87ac",
   "metadata": {},
   "outputs": [
    {
     "name": "stdout",
     "output_type": "stream",
     "text": [
      "C is greater\n"
     ]
    }
   ],
   "source": [
    "a,b,c=10,20,30\n",
    "if a>b and a>c:\n",
    "    print(\"A is greater than any other numbers\")\n",
    "elif b>a and b>c:\n",
    "    print(\"B is greater\")\n",
    "else:\n",
    "    print(\"C is greater\")"
   ]
  },
  {
   "cell_type": "code",
   "execution_count": 7,
   "id": "2e65644a",
   "metadata": {},
   "outputs": [
    {
     "name": "stdout",
     "output_type": "stream",
     "text": [
      "Enter your marks70\n",
      "Grade D\n"
     ]
    }
   ],
   "source": [
    "grade=input(\"Enter your marks\")\n",
    "grade=float(grade)\n",
    "if grade>90 and grade<=100:\n",
    "    print(\"Grade A\")\n",
    "elif grade>80 and grade<=90:\n",
    "    print(\"Grade B\")\n",
    "elif grade>70 and grade<=80:\n",
    "    print(\"Grade C\")\n",
    "elif grade>60 and grade<=70:\n",
    "    print(\"Grade D\")\n",
    "elif grade>50 and grade<=60:\n",
    "    print(\"Grade E\")\n",
    "elif grade>40 and grade<=50:\n",
    "    print(\"Grade F\")\n",
    "else:\n",
    "    print(\"Fail\")"
   ]
  },
  {
   "cell_type": "code",
   "execution_count": 8,
   "id": "78bf1bdf",
   "metadata": {},
   "outputs": [
    {
     "name": "stdout",
     "output_type": "stream",
     "text": [
      "Enter your marks35\n",
      "Fail\n"
     ]
    }
   ],
   "source": [
    "grade=input(\"Enter your marks\")\n",
    "grade=float(grade)\n",
    "if grade>90 and grade<=100:\n",
    "    print(\"Grade A\")\n",
    "elif grade>80 and grade<=90:\n",
    "    print(\"Grade B\")\n",
    "elif grade>70 and grade<=80:\n",
    "    print(\"Grade C\")\n",
    "elif grade>60 and grade<=70:\n",
    "    print(\"Grade D\")\n",
    "elif grade>50 and grade<=60:\n",
    "    print(\"Grade E\")\n",
    "elif grade>40 and grade<=50:\n",
    "    print(\"Grade F\")\n",
    "else:\n",
    "    print(\"Fail\")"
   ]
  },
  {
   "cell_type": "code",
   "execution_count": 9,
   "id": "168e1549",
   "metadata": {},
   "outputs": [
    {
     "name": "stdout",
     "output_type": "stream",
     "text": [
      "Enter your marks99\n",
      "Grade A\n"
     ]
    }
   ],
   "source": [
    "grade=input(\"Enter your marks\")\n",
    "grade=float(grade)\n",
    "if grade>90 and grade<=100:\n",
    "    print(\"Grade A\")\n",
    "elif grade>80 and grade<=90:\n",
    "    print(\"Grade B\")\n",
    "elif grade>70 and grade<=80:\n",
    "    print(\"Grade C\")\n",
    "elif grade>60 and grade<=70:\n",
    "    print(\"Grade D\")\n",
    "elif grade>50 and grade<=60:\n",
    "    print(\"Grade E\")\n",
    "elif grade>40 and grade<=50:\n",
    "    print(\"Grade F\")\n",
    "else:\n",
    "    print(\"Fail\")"
   ]
  },
  {
   "cell_type": "code",
   "execution_count": null,
   "id": "c2934870",
   "metadata": {},
   "outputs": [],
   "source": []
  }
 ],
 "metadata": {
  "kernelspec": {
   "display_name": "Python 3 (ipykernel)",
   "language": "python",
   "name": "python3"
  },
  "language_info": {
   "codemirror_mode": {
    "name": "ipython",
    "version": 3
   },
   "file_extension": ".py",
   "mimetype": "text/x-python",
   "name": "python",
   "nbconvert_exporter": "python",
   "pygments_lexer": "ipython3",
   "version": "3.9.13"
  }
 },
 "nbformat": 4,
 "nbformat_minor": 5
}
